{
  "nbformat": 4,
  "nbformat_minor": 0,
  "metadata": {
    "colab": {
      "name": "face_mask_detection",
      "provenance": []
    },
    "kernelspec": {
      "name": "python3",
      "display_name": "Python 3"
    },
    "accelerator": "GPU"
  },
  "cells": [
    {
      "cell_type": "code",
      "metadata": {
        "id": "TjIt-qJbGzIT",
        "colab": {
          "base_uri": "https://localhost:8080/",
          "height": 245
        },
        "outputId": "ed18042a-0d9a-4ef8-b730-604615dd9837"
      },
      "source": [
        "# Configuration related preprocessing step before mounting the drive\n",
        "!apt-get install -y -qq software-properties-common python-software-properties module-init-tools\n",
        "!add-apt-repository -y ppa:alessandro-strada/ppa 2>&1 > /dev/null\n",
        "!apt-get update -qq 2>&1 > /dev/null\n",
        "!apt-get -y install -qq google-drive-ocamlfuse fuse\n",
        "from google.colab import auth\n",
        "auth.authenticate_user()\n",
        "from oauth2client.client import GoogleCredentials\n",
        "creds = GoogleCredentials.get_application_default()\n",
        "import getpass\n",
        "!google-drive-ocamlfuse -headless -id={creds.client_id} -secret={creds.client_secret} < /dev/null 2>&1 | grep URL\n",
        "vcode = getpass.getpass()\n",
        "!echo {vcode} | google-drive-ocamlfuse -headless -id={creds.client_id} -secret={creds.client_secret}"
      ],
      "execution_count": null,
      "outputs": [
        {
          "output_type": "stream",
          "text": [
            "E: Package 'python-software-properties' has no installation candidate\n",
            "Selecting previously unselected package google-drive-ocamlfuse.\n",
            "(Reading database ... 144600 files and directories currently installed.)\n",
            "Preparing to unpack .../google-drive-ocamlfuse_0.7.22-0ubuntu3~ubuntu18.04.1_amd64.deb ...\n",
            "Unpacking google-drive-ocamlfuse (0.7.22-0ubuntu3~ubuntu18.04.1) ...\n",
            "Setting up google-drive-ocamlfuse (0.7.22-0ubuntu3~ubuntu18.04.1) ...\n",
            "Processing triggers for man-db (2.8.3-2ubuntu0.1) ...\n",
            "Please, open the following URL in a web browser: https://accounts.google.com/o/oauth2/auth?client_id=32555940559.apps.googleusercontent.com&redirect_uri=urn%3Aietf%3Awg%3Aoauth%3A2.0%3Aoob&scope=https%3A%2F%2Fwww.googleapis.com%2Fauth%2Fdrive&response_type=code&access_type=offline&approval_prompt=force\n",
            "··········\n",
            "Please, open the following URL in a web browser: https://accounts.google.com/o/oauth2/auth?client_id=32555940559.apps.googleusercontent.com&redirect_uri=urn%3Aietf%3Awg%3Aoauth%3A2.0%3Aoob&scope=https%3A%2F%2Fwww.googleapis.com%2Fauth%2Fdrive&response_type=code&access_type=offline&approval_prompt=force\n",
            "Please enter the verification code: Cannot retrieve auth tokens.\n",
            "Failure(\"Unexpected error response: {\\n  \\\"error\\\": \\\"invalid_grant\\\",\\n  \\\"error_description\\\": \\\"Bad Request\\\"\\n}\")\n"
          ],
          "name": "stdout"
        }
      ]
    },
    {
      "cell_type": "code",
      "metadata": {
        "id": "GrMcLv3rDzXp",
        "colab": {
          "base_uri": "https://localhost:8080/",
          "height": 34
        },
        "outputId": "52bb07e9-fdbd-40c9-a05a-bf6370ac1482"
      },
      "source": [
        "#Mount the google drive\n",
        "from google.colab import drive\n",
        "drive.mount('/content/drive')\n"
      ],
      "execution_count": null,
      "outputs": [
        {
          "output_type": "stream",
          "text": [
            "Mounted at /content/drive\n"
          ],
          "name": "stdout"
        }
      ]
    },
    {
      "cell_type": "code",
      "metadata": {
        "id": "MuTUEE_teha-",
        "colab": {
          "base_uri": "https://localhost:8080/",
          "height": 34
        },
        "outputId": "79cc9b24-f198-4e28-b78c-f9c5845fe44d"
      },
      "source": [
        "# Import Necessary Libraries\n",
        "import os\n",
        "\n",
        "# Set Directory path for Dataset\n",
        "os.chdir(\"/content/drive/My Drive/dataset\")\n",
        "Dataset='Dataset'\n",
        "Data_Dir=os.listdir(Dataset)\n",
        "print(Data_Dir)\n"
      ],
      "execution_count": null,
      "outputs": [
        {
          "output_type": "stream",
          "text": [
            "['without_mask', 'with_mask']\n"
          ],
          "name": "stdout"
        }
      ]
    },
    {
      "cell_type": "code",
      "metadata": {
        "id": "dqdlqz73fEUF"
      },
      "source": [
        "# Import necessary libraries\n",
        "import cv2\n",
        "import numpy as np\n",
        "from tensorflow.keras.utils import to_categorical\n",
        "from sklearn.preprocessing import LabelBinarizer\n",
        "from sklearn.model_selection import train_test_split\n"
      ],
      "execution_count": null,
      "outputs": []
    },
    {
      "cell_type": "code",
      "metadata": {
        "id": "60XSxhgkfPfR"
      },
      "source": [
        "img_rows, img_cols = 112, 112\n",
        "\n",
        "images = []\n",
        "labels = []"
      ],
      "execution_count": null,
      "outputs": []
    },
    {
      "cell_type": "code",
      "metadata": {
        "id": "FXG5eSVqfRUk"
      },
      "source": [
        "for category in Data_Dir:\n",
        "    folder_path = os.path.join(Dataset, category)\n",
        "    for img in os.listdir(folder_path):\n",
        "        img_path = os.path.join(folder_path, img)\n",
        "        img=cv2.imread(img_path)\n",
        "\n",
        "        try:\n",
        "            #Coverting the image into gray scale\n",
        "            grayscale_img=cv2.cvtColor(img,cv2.COLOR_BGR2GRAY)\n",
        "\n",
        "            #resizing the gray scaled image into size 56x56 in order to keep size of the images consistent           \n",
        "            resized_img=cv2.resize(grayscale_img,(img_rows, img_cols))\n",
        "            images.append(resized_img)\n",
        "            labels.append(category)\n",
        "        # Exception Handling in case any error occurs\n",
        "        except Exception as e:\n",
        "            print('Exception:',e)"
      ],
      "execution_count": null,
      "outputs": []
    },
    {
      "cell_type": "code",
      "metadata": {
        "id": "zjxzJJFBfUYy"
      },
      "source": [
        "images=np.array(images)/255.0\n",
        "images=np.reshape(images,(images.shape[0],img_rows, img_cols,1))"
      ],
      "execution_count": null,
      "outputs": []
    },
    {
      "cell_type": "code",
      "metadata": {
        "id": "wuLXb8FzgGcg"
      },
      "source": [
        "# Perform one hot encoding on the labels since the label are in textual form\n",
        "lb = LabelBinarizer()\n",
        "labels = lb.fit_transform(labels)\n",
        "labels = to_categorical(labels)\n",
        "labels = np.array(labels)"
      ],
      "execution_count": null,
      "outputs": []
    },
    {
      "cell_type": "code",
      "metadata": {
        "id": "ZNTrOVbKgJGm"
      },
      "source": [
        "(train_X, test_X, train_y, test_y) = train_test_split(images, labels, test_size=0.25, \n",
        "                                                      random_state=0)\n"
      ],
      "execution_count": null,
      "outputs": []
    },
    {
      "cell_type": "code",
      "metadata": {
        "id": "ttNkKrIFgLoU"
      },
      "source": [
        "# Import Necessary Keras Libraries\n",
        "from keras.models import Sequential\n",
        "from keras.layers import Dense,Activation,Flatten,Dropout\n",
        "from keras.layers import Conv2D,MaxPooling2D"
      ],
      "execution_count": null,
      "outputs": []
    },
    {
      "cell_type": "code",
      "metadata": {
        "id": "L8K3JwxKgOMP"
      },
      "source": [
        "# Define model paramters\n",
        "num_classes = 2\n",
        "batch_size = 32"
      ],
      "execution_count": null,
      "outputs": []
    },
    {
      "cell_type": "code",
      "metadata": {
        "id": "1Jo1-tipgQbR"
      },
      "source": [
        "# Build CNN model using Sequential API\n",
        "model=Sequential()\n",
        "\n",
        "#First layer group containing Convolution, Relu and MaxPooling layers\n",
        "model.add(Conv2D(64,(3,3),input_shape=(img_rows, img_cols, 1)))\n",
        "model.add(Activation('relu'))\n",
        "model.add(MaxPooling2D(pool_size=(2,2)))\n",
        "\n",
        "#Second layer group containing Convolution, Relu and MaxPooling layers\n",
        "model.add(Conv2D(128,(3,3)))\n",
        "model.add(Activation('relu'))\n",
        "model.add(MaxPooling2D(pool_size=(2,2)))\n",
        "\n",
        "#Flatten and Dropout Layer to stack the output convolutions above as well as cater overfitting\n",
        "model.add(Flatten())\n",
        "model.add(Dropout(0.5))\n",
        "\n",
        "# Softmax Classifier\n",
        "model.add(Dense(64,activation='relu'))\n",
        "model.add(Dense(num_classes,activation='softmax'))\n"
      ],
      "execution_count": null,
      "outputs": []
    },
    {
      "cell_type": "code",
      "metadata": {
        "id": "2VnwctPcgUx5",
        "colab": {
          "base_uri": "https://localhost:8080/",
          "height": 521
        },
        "outputId": "2ac17dd6-545a-4a03-9a7a-dfc8c5970967"
      },
      "source": [
        "print(model.summary())\n"
      ],
      "execution_count": null,
      "outputs": [
        {
          "output_type": "stream",
          "text": [
            "Model: \"sequential\"\n",
            "_________________________________________________________________\n",
            "Layer (type)                 Output Shape              Param #   \n",
            "=================================================================\n",
            "conv2d (Conv2D)              (None, 110, 110, 64)      640       \n",
            "_________________________________________________________________\n",
            "activation (Activation)      (None, 110, 110, 64)      0         \n",
            "_________________________________________________________________\n",
            "max_pooling2d (MaxPooling2D) (None, 55, 55, 64)        0         \n",
            "_________________________________________________________________\n",
            "conv2d_1 (Conv2D)            (None, 53, 53, 128)       73856     \n",
            "_________________________________________________________________\n",
            "activation_1 (Activation)    (None, 53, 53, 128)       0         \n",
            "_________________________________________________________________\n",
            "max_pooling2d_1 (MaxPooling2 (None, 26, 26, 128)       0         \n",
            "_________________________________________________________________\n",
            "flatten (Flatten)            (None, 86528)             0         \n",
            "_________________________________________________________________\n",
            "dropout (Dropout)            (None, 86528)             0         \n",
            "_________________________________________________________________\n",
            "dense (Dense)                (None, 64)                5537856   \n",
            "_________________________________________________________________\n",
            "dense_1 (Dense)              (None, 2)                 130       \n",
            "=================================================================\n",
            "Total params: 5,612,482\n",
            "Trainable params: 5,612,482\n",
            "Non-trainable params: 0\n",
            "_________________________________________________________________\n",
            "None\n"
          ],
          "name": "stdout"
        }
      ]
    },
    {
      "cell_type": "code",
      "metadata": {
        "id": "bxaGZHalgXMU",
        "colab": {
          "base_uri": "https://localhost:8080/",
          "height": 1000
        },
        "outputId": "54a73a2c-9de1-4689-a418-a17cb75403ee"
      },
      "source": [
        "\"\"\"## Plot the Model\"\"\"\n",
        "\n",
        "# Plot the model\n",
        "from keras.utils.vis_utils import plot_model\n",
        "plot_model(model, to_file='face_mask_detection_architecture.png')\n"
      ],
      "execution_count": null,
      "outputs": [
        {
          "output_type": "execute_result",
          "data": {
            "image/png": "[encoded data removed]",
            "text/plain": [
              "<IPython.core.display.Image object>"
            ]
          },
          "metadata": {
            "tags": []
          },
          "execution_count": 17
        }
      ]
    },
    {
      "cell_type": "code",
      "metadata": {
        "id": "SixM7SvPgaMg"
      },
      "source": [
        "\"\"\"## Train the Model\"\"\"\n",
        "\n",
        "from keras.optimizers import Adam\n",
        "\n",
        "epochs = 50\n",
        "\n",
        "model.compile(loss = 'categorical_crossentropy',\n",
        "              optimizer = Adam(lr=0.001),\n",
        "              metrics = ['accuracy'])"
      ],
      "execution_count": null,
      "outputs": []
    },
    {
      "cell_type": "code",
      "metadata": {
        "id": "174-M1kggjm4",
        "colab": {
          "base_uri": "https://localhost:8080/",
          "height": 1000
        },
        "outputId": "ca1101d6-b38d-40f4-8127-835e5e2470ef"
      },
      "source": [
        "fitted_model = model.fit(\n",
        "    train_X,\n",
        "    train_y,\n",
        "    epochs = epochs,\n",
        "    validation_split=0.25)"
      ],
      "execution_count": null,
      "outputs": [
        {
          "output_type": "stream",
          "text": [
            "Epoch 1/50\n",
            "15/15 [==============================] - 1s 72ms/step - loss: 0.7936 - accuracy: 0.5188 - val_loss: 0.6931 - val_accuracy: 0.5066\n",
            "Epoch 2/50\n",
            "15/15 [==============================] - 1s 47ms/step - loss: 0.6919 - accuracy: 0.5563 - val_loss: 0.6934 - val_accuracy: 0.4474\n",
            "Epoch 3/50\n",
            "15/15 [==============================] - 1s 46ms/step - loss: 0.6698 - accuracy: 0.5784 - val_loss: 0.6388 - val_accuracy: 0.6711\n",
            "Epoch 4/50\n",
            "15/15 [==============================] - 1s 46ms/step - loss: 0.5220 - accuracy: 0.7815 - val_loss: 0.7171 - val_accuracy: 0.5592\n",
            "Epoch 5/50\n",
            "15/15 [==============================] - 1s 46ms/step - loss: 0.4009 - accuracy: 0.8057 - val_loss: 0.4592 - val_accuracy: 0.7697\n",
            "Epoch 6/50\n",
            "15/15 [==============================] - 1s 46ms/step - loss: 0.2947 - accuracy: 0.8808 - val_loss: 0.4620 - val_accuracy: 0.8026\n",
            "Epoch 7/50\n",
            "15/15 [==============================] - 1s 46ms/step - loss: 0.2478 - accuracy: 0.8985 - val_loss: 0.4266 - val_accuracy: 0.8092\n",
            "Epoch 8/50\n",
            "15/15 [==============================] - 1s 47ms/step - loss: 0.1941 - accuracy: 0.9227 - val_loss: 0.4713 - val_accuracy: 0.7829\n",
            "Epoch 9/50\n",
            "15/15 [==============================] - 1s 46ms/step - loss: 0.1599 - accuracy: 0.9382 - val_loss: 0.4859 - val_accuracy: 0.8026\n",
            "Epoch 10/50\n",
            "15/15 [==============================] - 1s 46ms/step - loss: 0.1208 - accuracy: 0.9581 - val_loss: 0.4751 - val_accuracy: 0.8289\n",
            "Epoch 11/50\n",
            "15/15 [==============================] - 1s 46ms/step - loss: 0.0908 - accuracy: 0.9669 - val_loss: 0.4976 - val_accuracy: 0.8026\n",
            "Epoch 12/50\n",
            "15/15 [==============================] - 1s 46ms/step - loss: 0.0670 - accuracy: 0.9845 - val_loss: 0.4852 - val_accuracy: 0.8355\n",
            "Epoch 13/50\n",
            "15/15 [==============================] - 1s 46ms/step - loss: 0.0719 - accuracy: 0.9757 - val_loss: 0.4834 - val_accuracy: 0.8224\n",
            "Epoch 14/50\n",
            "15/15 [==============================] - 1s 46ms/step - loss: 0.0684 - accuracy: 0.9735 - val_loss: 0.5401 - val_accuracy: 0.8421\n",
            "Epoch 15/50\n",
            "15/15 [==============================] - 1s 46ms/step - loss: 0.0633 - accuracy: 0.9823 - val_loss: 0.5735 - val_accuracy: 0.8224\n",
            "Epoch 16/50\n",
            "15/15 [==============================] - 1s 46ms/step - loss: 0.0566 - accuracy: 0.9801 - val_loss: 0.5978 - val_accuracy: 0.8026\n",
            "Epoch 17/50\n",
            "15/15 [==============================] - 1s 46ms/step - loss: 0.0990 - accuracy: 0.9603 - val_loss: 0.5065 - val_accuracy: 0.8092\n",
            "Epoch 18/50\n",
            "15/15 [==============================] - 1s 46ms/step - loss: 0.0739 - accuracy: 0.9757 - val_loss: 0.5329 - val_accuracy: 0.8158\n",
            "Epoch 19/50\n",
            "15/15 [==============================] - 1s 46ms/step - loss: 0.0517 - accuracy: 0.9845 - val_loss: 0.5437 - val_accuracy: 0.8026\n",
            "Epoch 20/50\n",
            "15/15 [==============================] - 1s 46ms/step - loss: 0.0429 - accuracy: 0.9823 - val_loss: 0.7469 - val_accuracy: 0.8026\n",
            "Epoch 21/50\n",
            "15/15 [==============================] - 1s 46ms/step - loss: 0.0380 - accuracy: 0.9868 - val_loss: 0.5898 - val_accuracy: 0.8026\n",
            "Epoch 22/50\n",
            "15/15 [==============================] - 1s 47ms/step - loss: 0.0253 - accuracy: 0.9934 - val_loss: 0.6211 - val_accuracy: 0.8224\n",
            "Epoch 23/50\n",
            "15/15 [==============================] - 1s 46ms/step - loss: 0.0196 - accuracy: 0.9934 - val_loss: 0.6265 - val_accuracy: 0.8224\n",
            "Epoch 24/50\n",
            "15/15 [==============================] - 1s 46ms/step - loss: 0.0233 - accuracy: 0.9912 - val_loss: 0.6210 - val_accuracy: 0.8158\n",
            "Epoch 25/50\n",
            "15/15 [==============================] - 1s 46ms/step - loss: 0.0327 - accuracy: 0.9912 - val_loss: 0.5874 - val_accuracy: 0.8026\n",
            "Epoch 26/50\n",
            "15/15 [==============================] - 1s 46ms/step - loss: 0.0129 - accuracy: 1.0000 - val_loss: 0.7095 - val_accuracy: 0.8289\n",
            "Epoch 27/50\n",
            "15/15 [==============================] - 1s 46ms/step - loss: 0.0187 - accuracy: 0.9934 - val_loss: 0.7401 - val_accuracy: 0.8158\n",
            "Epoch 28/50\n",
            "15/15 [==============================] - 1s 46ms/step - loss: 0.0226 - accuracy: 0.9912 - val_loss: 0.6377 - val_accuracy: 0.8355\n",
            "Epoch 29/50\n",
            "15/15 [==============================] - 1s 47ms/step - loss: 0.0121 - accuracy: 0.9978 - val_loss: 0.8494 - val_accuracy: 0.8092\n",
            "Epoch 30/50\n",
            "15/15 [==============================] - 1s 46ms/step - loss: 0.0048 - accuracy: 1.0000 - val_loss: 0.7296 - val_accuracy: 0.8355\n",
            "Epoch 31/50\n",
            "15/15 [==============================] - 1s 46ms/step - loss: 0.0126 - accuracy: 0.9956 - val_loss: 0.7950 - val_accuracy: 0.8289\n",
            "Epoch 32/50\n",
            "15/15 [==============================] - 1s 46ms/step - loss: 0.0169 - accuracy: 0.9934 - val_loss: 0.7476 - val_accuracy: 0.8224\n",
            "Epoch 33/50\n",
            "15/15 [==============================] - 1s 46ms/step - loss: 0.0096 - accuracy: 1.0000 - val_loss: 0.7635 - val_accuracy: 0.8289\n",
            "Epoch 34/50\n",
            "15/15 [==============================] - 1s 46ms/step - loss: 0.0213 - accuracy: 0.9934 - val_loss: 0.7467 - val_accuracy: 0.8421\n",
            "Epoch 35/50\n",
            "15/15 [==============================] - 1s 47ms/step - loss: 0.0320 - accuracy: 0.9934 - val_loss: 0.6835 - val_accuracy: 0.7961\n",
            "Epoch 36/50\n",
            "15/15 [==============================] - 1s 46ms/step - loss: 0.0177 - accuracy: 0.9956 - val_loss: 0.6273 - val_accuracy: 0.8289\n",
            "Epoch 37/50\n",
            "15/15 [==============================] - 1s 46ms/step - loss: 0.0239 - accuracy: 0.9956 - val_loss: 0.7051 - val_accuracy: 0.8158\n",
            "Epoch 38/50\n",
            "15/15 [==============================] - 1s 46ms/step - loss: 0.0354 - accuracy: 0.9890 - val_loss: 0.9951 - val_accuracy: 0.7961\n",
            "Epoch 39/50\n",
            "15/15 [==============================] - 1s 46ms/step - loss: 0.0250 - accuracy: 0.9956 - val_loss: 1.2029 - val_accuracy: 0.8026\n",
            "Epoch 40/50\n",
            "15/15 [==============================] - 1s 47ms/step - loss: 0.0404 - accuracy: 0.9845 - val_loss: 0.8270 - val_accuracy: 0.8092\n",
            "Epoch 41/50\n",
            "15/15 [==============================] - 1s 46ms/step - loss: 0.0207 - accuracy: 0.9912 - val_loss: 0.7521 - val_accuracy: 0.8355\n",
            "Epoch 42/50\n",
            "15/15 [==============================] - 1s 46ms/step - loss: 0.0061 - accuracy: 1.0000 - val_loss: 0.8377 - val_accuracy: 0.8421\n",
            "Epoch 43/50\n",
            "15/15 [==============================] - 1s 46ms/step - loss: 0.0307 - accuracy: 0.9868 - val_loss: 0.6098 - val_accuracy: 0.8421\n",
            "Epoch 44/50\n",
            "15/15 [==============================] - 1s 46ms/step - loss: 0.0114 - accuracy: 0.9956 - val_loss: 0.7859 - val_accuracy: 0.8158\n",
            "Epoch 45/50\n",
            "15/15 [==============================] - 1s 46ms/step - loss: 0.0202 - accuracy: 0.9890 - val_loss: 0.6898 - val_accuracy: 0.8421\n",
            "Epoch 46/50\n",
            "15/15 [==============================] - 1s 46ms/step - loss: 0.0074 - accuracy: 1.0000 - val_loss: 0.8244 - val_accuracy: 0.8487\n",
            "Epoch 47/50\n",
            "15/15 [==============================] - 1s 46ms/step - loss: 0.0041 - accuracy: 1.0000 - val_loss: 0.7412 - val_accuracy: 0.8487\n",
            "Epoch 48/50\n",
            "15/15 [==============================] - 1s 46ms/step - loss: 0.0231 - accuracy: 0.9912 - val_loss: 0.7414 - val_accuracy: 0.8289\n",
            "Epoch 49/50\n",
            "15/15 [==============================] - 1s 46ms/step - loss: 0.0097 - accuracy: 0.9956 - val_loss: 0.8947 - val_accuracy: 0.8487\n",
            "Epoch 50/50\n",
            "15/15 [==============================] - 1s 46ms/step - loss: 0.0124 - accuracy: 0.9934 - val_loss: 0.7481 - val_accuracy: 0.8355\n"
          ],
          "name": "stdout"
        }
      ]
    },
    {
      "cell_type": "code",
      "metadata": {
        "id": "FGLQWTphiaE-",
        "colab": {
          "base_uri": "https://localhost:8080/",
          "height": 279
        },
        "outputId": "f53f9387-1170-43df-b36c-43a6836962b9"
      },
      "source": [
        "\"\"\"## Plot the Training Loss & Accuracy\"\"\"\n",
        "\n",
        "from matplotlib import pyplot as plt\n",
        "# Plot Training and Validation Loss\n",
        "plt.plot(fitted_model.history['loss'],'r',label='training loss')\n",
        "plt.plot(fitted_model.history['val_loss'],label='validation loss')\n",
        "plt.xlabel('Number of Epochs')\n",
        "plt.ylabel('Loss Value')\n",
        "plt.legend()\n",
        "plt.show()"
      ],
      "execution_count": null,
      "outputs": [
        {
          "output_type": "display_data",
          "data": {
            "image/png": "[encoded data removed]",
            "text/plain": [
              "<Figure size 432x288 with 1 Axes>"
            ]
          },
          "metadata": {
            "tags": [],
            "needs_background": "light"
          }
        }
      ]
    },
    {
      "cell_type": "code",
      "metadata": {
        "id": "Ja__ky8Vovlf",
        "colab": {
          "base_uri": "https://localhost:8080/",
          "height": 279
        },
        "outputId": "074ff0b6-26c5-48f1-ac3f-bbf083adefa5"
      },
      "source": [
        "# Plot Training and Validation Accuracy\n",
        "plt.plot(fitted_model.history['accuracy'],'r',label='training accuracy')\n",
        "plt.plot(fitted_model.history['val_accuracy'],label='validation accuracy')\n",
        "plt.xlabel('Number of Epochs')\n",
        "plt.ylabel('Accuracy Value')\n",
        "plt.legend()\n",
        "plt.show()"
      ],
      "execution_count": null,
      "outputs": [
        {
          "output_type": "display_data",
          "data": {
            "image/png": "[encoded data removed]",
            "text/plain": [
              "<Figure size 432x288 with 1 Axes>"
            ]
          },
          "metadata": {
            "tags": [],
            "needs_background": "light"
          }
        }
      ]
    },
    {
      "cell_type": "code",
      "metadata": {
        "id": "u1DPbKHHpG_Y"
      },
      "source": [
        "\"\"\"## Save or Serialize the Model\"\"\"\n",
        "\n",
        "# Save or Serialize the model with the name face_mask_detection_alert_system\n",
        "model.save('face_mask_detection_alert_system.h5')\n"
      ],
      "execution_count": null,
      "outputs": []
    },
    {
      "cell_type": "code",
      "metadata": {
        "id": "9OdEBHLFpsKU"
      },
      "source": [
        ""
      ],
      "execution_count": null,
      "outputs": []
    }
  ]
}